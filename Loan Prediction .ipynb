{
 "cells": [
  {
   "cell_type": "code",
   "execution_count": 1,
   "id": "710890b2",
   "metadata": {},
   "outputs": [],
   "source": [
    "import pandas as pd\n",
    "import numpy as np\n",
    "import warnings\n",
    "import matplotlib.pyplot as plt\n",
    "import seaborn as sns"
   ]
  },
  {
   "cell_type": "code",
   "execution_count": 2,
   "id": "8e6e5d2f",
   "metadata": {},
   "outputs": [],
   "source": [
    "# ML models \n",
    "from sklearn.tree import DecisionTreeClassifier \n",
    "from sklearn.ensemble import RandomForestClassifier\n",
    "from sklearn.linear_model import LogisticRegression "
   ]
  },
  {
   "cell_type": "code",
   "execution_count": 3,
   "id": "de923195",
   "metadata": {},
   "outputs": [],
   "source": [
    "# ML libraries\n",
    "from sklearn.preprocessing import LabelEncoder\n",
    "from sklearn.model_selection import train_test_split \n",
    "from sklearn.metrics import confusion_matrix\n",
    "from sklearn.metrics import classification_report\n",
    "from sklearn.metrics import accuracy_score"
   ]
  },
  {
   "cell_type": "code",
   "execution_count": 4,
   "id": "92d9feb6",
   "metadata": {},
   "outputs": [],
   "source": [
    "lp_hc_train = pd.read_csv(\"C:\\\\Users\\\\dakha\\\\Downloads\\\\train_ctrUa4K.csv\")"
   ]
  },
  {
   "cell_type": "code",
   "execution_count": 7,
   "id": "fca6145d",
   "metadata": {},
   "outputs": [],
   "source": [
    "lp_test = pd.read_csv(\"C:\\\\Users\\\\dakha\\\\Downloads\\\\test_lAUu6dG.csv\")"
   ]
  },
  {
   "cell_type": "code",
   "execution_count": 8,
   "id": "6d7e0771",
   "metadata": {},
   "outputs": [
    {
     "data": {
      "text/html": [
       "<div>\n",
       "<style scoped>\n",
       "    .dataframe tbody tr th:only-of-type {\n",
       "        vertical-align: middle;\n",
       "    }\n",
       "\n",
       "    .dataframe tbody tr th {\n",
       "        vertical-align: top;\n",
       "    }\n",
       "\n",
       "    .dataframe thead th {\n",
       "        text-align: right;\n",
       "    }\n",
       "</style>\n",
       "<table border=\"1\" class=\"dataframe\">\n",
       "  <thead>\n",
       "    <tr style=\"text-align: right;\">\n",
       "      <th></th>\n",
       "      <th>Loan_ID</th>\n",
       "      <th>Gender</th>\n",
       "      <th>Married</th>\n",
       "      <th>Dependents</th>\n",
       "      <th>Education</th>\n",
       "      <th>Self_Employed</th>\n",
       "      <th>ApplicantIncome</th>\n",
       "      <th>CoapplicantIncome</th>\n",
       "      <th>LoanAmount</th>\n",
       "      <th>Loan_Amount_Term</th>\n",
       "      <th>Credit_History</th>\n",
       "      <th>Property_Area</th>\n",
       "      <th>Loan_Status</th>\n",
       "    </tr>\n",
       "  </thead>\n",
       "  <tbody>\n",
       "    <tr>\n",
       "      <th>0</th>\n",
       "      <td>LP001002</td>\n",
       "      <td>Male</td>\n",
       "      <td>No</td>\n",
       "      <td>0</td>\n",
       "      <td>Graduate</td>\n",
       "      <td>No</td>\n",
       "      <td>5849</td>\n",
       "      <td>0.0</td>\n",
       "      <td>NaN</td>\n",
       "      <td>360.0</td>\n",
       "      <td>1.0</td>\n",
       "      <td>Urban</td>\n",
       "      <td>Y</td>\n",
       "    </tr>\n",
       "    <tr>\n",
       "      <th>1</th>\n",
       "      <td>LP001003</td>\n",
       "      <td>Male</td>\n",
       "      <td>Yes</td>\n",
       "      <td>1</td>\n",
       "      <td>Graduate</td>\n",
       "      <td>No</td>\n",
       "      <td>4583</td>\n",
       "      <td>1508.0</td>\n",
       "      <td>128.0</td>\n",
       "      <td>360.0</td>\n",
       "      <td>1.0</td>\n",
       "      <td>Rural</td>\n",
       "      <td>N</td>\n",
       "    </tr>\n",
       "    <tr>\n",
       "      <th>2</th>\n",
       "      <td>LP001005</td>\n",
       "      <td>Male</td>\n",
       "      <td>Yes</td>\n",
       "      <td>0</td>\n",
       "      <td>Graduate</td>\n",
       "      <td>Yes</td>\n",
       "      <td>3000</td>\n",
       "      <td>0.0</td>\n",
       "      <td>66.0</td>\n",
       "      <td>360.0</td>\n",
       "      <td>1.0</td>\n",
       "      <td>Urban</td>\n",
       "      <td>Y</td>\n",
       "    </tr>\n",
       "    <tr>\n",
       "      <th>3</th>\n",
       "      <td>LP001006</td>\n",
       "      <td>Male</td>\n",
       "      <td>Yes</td>\n",
       "      <td>0</td>\n",
       "      <td>Not Graduate</td>\n",
       "      <td>No</td>\n",
       "      <td>2583</td>\n",
       "      <td>2358.0</td>\n",
       "      <td>120.0</td>\n",
       "      <td>360.0</td>\n",
       "      <td>1.0</td>\n",
       "      <td>Urban</td>\n",
       "      <td>Y</td>\n",
       "    </tr>\n",
       "    <tr>\n",
       "      <th>4</th>\n",
       "      <td>LP001008</td>\n",
       "      <td>Male</td>\n",
       "      <td>No</td>\n",
       "      <td>0</td>\n",
       "      <td>Graduate</td>\n",
       "      <td>No</td>\n",
       "      <td>6000</td>\n",
       "      <td>0.0</td>\n",
       "      <td>141.0</td>\n",
       "      <td>360.0</td>\n",
       "      <td>1.0</td>\n",
       "      <td>Urban</td>\n",
       "      <td>Y</td>\n",
       "    </tr>\n",
       "  </tbody>\n",
       "</table>\n",
       "</div>"
      ],
      "text/plain": [
       "    Loan_ID Gender Married Dependents     Education Self_Employed  \\\n",
       "0  LP001002   Male      No          0      Graduate            No   \n",
       "1  LP001003   Male     Yes          1      Graduate            No   \n",
       "2  LP001005   Male     Yes          0      Graduate           Yes   \n",
       "3  LP001006   Male     Yes          0  Not Graduate            No   \n",
       "4  LP001008   Male      No          0      Graduate            No   \n",
       "\n",
       "   ApplicantIncome  CoapplicantIncome  LoanAmount  Loan_Amount_Term  \\\n",
       "0             5849                0.0         NaN             360.0   \n",
       "1             4583             1508.0       128.0             360.0   \n",
       "2             3000                0.0        66.0             360.0   \n",
       "3             2583             2358.0       120.0             360.0   \n",
       "4             6000                0.0       141.0             360.0   \n",
       "\n",
       "   Credit_History Property_Area Loan_Status  \n",
       "0             1.0         Urban           Y  \n",
       "1             1.0         Rural           N  \n",
       "2             1.0         Urban           Y  \n",
       "3             1.0         Urban           Y  \n",
       "4             1.0         Urban           Y  "
      ]
     },
     "execution_count": 8,
     "metadata": {},
     "output_type": "execute_result"
    }
   ],
   "source": [
    "lp_hc.head()"
   ]
  },
  {
   "cell_type": "code",
   "execution_count": 9,
   "id": "192d631e",
   "metadata": {},
   "outputs": [
    {
     "name": "stdout",
     "output_type": "stream",
     "text": [
      "training set (row, col): (614, 13)\n",
      "\n",
      "testing set (row, col): (367, 12)\n"
     ]
    }
   ],
   "source": [
    "print(f\"training set (row, col): {lp_hc.shape}\\n\\ntesting set (row, col): {lp_test.shape}\")"
   ]
  },
  {
   "cell_type": "code",
   "execution_count": 12,
   "id": "30f18999",
   "metadata": {},
   "outputs": [
    {
     "name": "stdout",
     "output_type": "stream",
     "text": [
      "<class 'pandas.core.frame.DataFrame'>\n",
      "RangeIndex: 614 entries, 0 to 613\n",
      "Data columns (total 13 columns):\n",
      " #   Column             Non-Null Count  Dtype  \n",
      "---  ------             --------------  -----  \n",
      " 0   Loan_ID            614 non-null    object \n",
      " 1   Gender             601 non-null    object \n",
      " 2   Married            611 non-null    object \n",
      " 3   Dependents         599 non-null    object \n",
      " 4   Education          614 non-null    object \n",
      " 5   Self_Employed      582 non-null    object \n",
      " 6   ApplicantIncome    614 non-null    int64  \n",
      " 7   CoapplicantIncome  614 non-null    float64\n",
      " 8   LoanAmount         592 non-null    float64\n",
      " 9   Loan_Amount_Term   600 non-null    float64\n",
      " 10  Credit_History     564 non-null    float64\n",
      " 11  Property_Area      614 non-null    object \n",
      " 12  Loan_Status        614 non-null    object \n",
      "dtypes: float64(4), int64(1), object(8)\n",
      "memory usage: 62.5+ KB\n"
     ]
    }
   ],
   "source": [
    "lp_hc.info()"
   ]
  },
  {
   "cell_type": "code",
   "execution_count": 13,
   "id": "a554380e",
   "metadata": {
    "scrolled": true
   },
   "outputs": [
    {
     "data": {
      "text/html": [
       "<div>\n",
       "<style scoped>\n",
       "    .dataframe tbody tr th:only-of-type {\n",
       "        vertical-align: middle;\n",
       "    }\n",
       "\n",
       "    .dataframe tbody tr th {\n",
       "        vertical-align: top;\n",
       "    }\n",
       "\n",
       "    .dataframe thead th {\n",
       "        text-align: right;\n",
       "    }\n",
       "</style>\n",
       "<table border=\"1\" class=\"dataframe\">\n",
       "  <thead>\n",
       "    <tr style=\"text-align: right;\">\n",
       "      <th></th>\n",
       "      <th>ApplicantIncome</th>\n",
       "      <th>CoapplicantIncome</th>\n",
       "      <th>LoanAmount</th>\n",
       "      <th>Loan_Amount_Term</th>\n",
       "      <th>Credit_History</th>\n",
       "    </tr>\n",
       "  </thead>\n",
       "  <tbody>\n",
       "    <tr>\n",
       "      <th>count</th>\n",
       "      <td>614.000000</td>\n",
       "      <td>614.000000</td>\n",
       "      <td>592.000000</td>\n",
       "      <td>600.00000</td>\n",
       "      <td>564.000000</td>\n",
       "    </tr>\n",
       "    <tr>\n",
       "      <th>mean</th>\n",
       "      <td>5403.459283</td>\n",
       "      <td>1621.245798</td>\n",
       "      <td>146.412162</td>\n",
       "      <td>342.00000</td>\n",
       "      <td>0.842199</td>\n",
       "    </tr>\n",
       "    <tr>\n",
       "      <th>std</th>\n",
       "      <td>6109.041673</td>\n",
       "      <td>2926.248369</td>\n",
       "      <td>85.587325</td>\n",
       "      <td>65.12041</td>\n",
       "      <td>0.364878</td>\n",
       "    </tr>\n",
       "    <tr>\n",
       "      <th>min</th>\n",
       "      <td>150.000000</td>\n",
       "      <td>0.000000</td>\n",
       "      <td>9.000000</td>\n",
       "      <td>12.00000</td>\n",
       "      <td>0.000000</td>\n",
       "    </tr>\n",
       "    <tr>\n",
       "      <th>25%</th>\n",
       "      <td>2877.500000</td>\n",
       "      <td>0.000000</td>\n",
       "      <td>100.000000</td>\n",
       "      <td>360.00000</td>\n",
       "      <td>1.000000</td>\n",
       "    </tr>\n",
       "    <tr>\n",
       "      <th>50%</th>\n",
       "      <td>3812.500000</td>\n",
       "      <td>1188.500000</td>\n",
       "      <td>128.000000</td>\n",
       "      <td>360.00000</td>\n",
       "      <td>1.000000</td>\n",
       "    </tr>\n",
       "    <tr>\n",
       "      <th>75%</th>\n",
       "      <td>5795.000000</td>\n",
       "      <td>2297.250000</td>\n",
       "      <td>168.000000</td>\n",
       "      <td>360.00000</td>\n",
       "      <td>1.000000</td>\n",
       "    </tr>\n",
       "    <tr>\n",
       "      <th>max</th>\n",
       "      <td>81000.000000</td>\n",
       "      <td>41667.000000</td>\n",
       "      <td>700.000000</td>\n",
       "      <td>480.00000</td>\n",
       "      <td>1.000000</td>\n",
       "    </tr>\n",
       "  </tbody>\n",
       "</table>\n",
       "</div>"
      ],
      "text/plain": [
       "       ApplicantIncome  CoapplicantIncome  LoanAmount  Loan_Amount_Term  \\\n",
       "count       614.000000         614.000000  592.000000         600.00000   \n",
       "mean       5403.459283        1621.245798  146.412162         342.00000   \n",
       "std        6109.041673        2926.248369   85.587325          65.12041   \n",
       "min         150.000000           0.000000    9.000000          12.00000   \n",
       "25%        2877.500000           0.000000  100.000000         360.00000   \n",
       "50%        3812.500000        1188.500000  128.000000         360.00000   \n",
       "75%        5795.000000        2297.250000  168.000000         360.00000   \n",
       "max       81000.000000       41667.000000  700.000000         480.00000   \n",
       "\n",
       "       Credit_History  \n",
       "count      564.000000  \n",
       "mean         0.842199  \n",
       "std          0.364878  \n",
       "min          0.000000  \n",
       "25%          1.000000  \n",
       "50%          1.000000  \n",
       "75%          1.000000  \n",
       "max          1.000000  "
      ]
     },
     "execution_count": 13,
     "metadata": {},
     "output_type": "execute_result"
    }
   ],
   "source": [
    "lp_hc.describe()"
   ]
  },
  {
   "cell_type": "code",
   "execution_count": 24,
   "id": "4e30f2d0",
   "metadata": {},
   "outputs": [
    {
     "data": {
      "text/html": [
       "<div>\n",
       "<style scoped>\n",
       "    .dataframe tbody tr th:only-of-type {\n",
       "        vertical-align: middle;\n",
       "    }\n",
       "\n",
       "    .dataframe tbody tr th {\n",
       "        vertical-align: top;\n",
       "    }\n",
       "\n",
       "    .dataframe thead th {\n",
       "        text-align: right;\n",
       "    }\n",
       "</style>\n",
       "<table border=\"1\" class=\"dataframe\">\n",
       "  <thead>\n",
       "    <tr style=\"text-align: right;\">\n",
       "      <th></th>\n",
       "      <th>Gender</th>\n",
       "      <th>Married</th>\n",
       "      <th>Dependents</th>\n",
       "      <th>Education</th>\n",
       "      <th>Self_Employed</th>\n",
       "      <th>ApplicantIncome</th>\n",
       "      <th>CoapplicantIncome</th>\n",
       "      <th>LoanAmount</th>\n",
       "      <th>Loan_Amount_Term</th>\n",
       "      <th>Credit_History</th>\n",
       "      <th>Property_Area</th>\n",
       "      <th>Loan_Status</th>\n",
       "    </tr>\n",
       "  </thead>\n",
       "  <tbody>\n",
       "    <tr>\n",
       "      <th>0</th>\n",
       "      <td>Male</td>\n",
       "      <td>No</td>\n",
       "      <td>0</td>\n",
       "      <td>Graduate</td>\n",
       "      <td>No</td>\n",
       "      <td>5849</td>\n",
       "      <td>0.0</td>\n",
       "      <td>NaN</td>\n",
       "      <td>360.0</td>\n",
       "      <td>1.0</td>\n",
       "      <td>Urban</td>\n",
       "      <td>Y</td>\n",
       "    </tr>\n",
       "    <tr>\n",
       "      <th>1</th>\n",
       "      <td>Male</td>\n",
       "      <td>Yes</td>\n",
       "      <td>1</td>\n",
       "      <td>Graduate</td>\n",
       "      <td>No</td>\n",
       "      <td>4583</td>\n",
       "      <td>1508.0</td>\n",
       "      <td>128.0</td>\n",
       "      <td>360.0</td>\n",
       "      <td>1.0</td>\n",
       "      <td>Rural</td>\n",
       "      <td>N</td>\n",
       "    </tr>\n",
       "    <tr>\n",
       "      <th>2</th>\n",
       "      <td>Male</td>\n",
       "      <td>Yes</td>\n",
       "      <td>0</td>\n",
       "      <td>Graduate</td>\n",
       "      <td>Yes</td>\n",
       "      <td>3000</td>\n",
       "      <td>0.0</td>\n",
       "      <td>66.0</td>\n",
       "      <td>360.0</td>\n",
       "      <td>1.0</td>\n",
       "      <td>Urban</td>\n",
       "      <td>Y</td>\n",
       "    </tr>\n",
       "    <tr>\n",
       "      <th>3</th>\n",
       "      <td>Male</td>\n",
       "      <td>Yes</td>\n",
       "      <td>0</td>\n",
       "      <td>Not Graduate</td>\n",
       "      <td>No</td>\n",
       "      <td>2583</td>\n",
       "      <td>2358.0</td>\n",
       "      <td>120.0</td>\n",
       "      <td>360.0</td>\n",
       "      <td>1.0</td>\n",
       "      <td>Urban</td>\n",
       "      <td>Y</td>\n",
       "    </tr>\n",
       "    <tr>\n",
       "      <th>4</th>\n",
       "      <td>Male</td>\n",
       "      <td>No</td>\n",
       "      <td>0</td>\n",
       "      <td>Graduate</td>\n",
       "      <td>No</td>\n",
       "      <td>6000</td>\n",
       "      <td>0.0</td>\n",
       "      <td>141.0</td>\n",
       "      <td>360.0</td>\n",
       "      <td>1.0</td>\n",
       "      <td>Urban</td>\n",
       "      <td>Y</td>\n",
       "    </tr>\n",
       "  </tbody>\n",
       "</table>\n",
       "</div>"
      ],
      "text/plain": [
       "  Gender Married Dependents     Education Self_Employed  ApplicantIncome  \\\n",
       "0   Male      No          0      Graduate            No             5849   \n",
       "1   Male     Yes          1      Graduate            No             4583   \n",
       "2   Male     Yes          0      Graduate           Yes             3000   \n",
       "3   Male     Yes          0  Not Graduate            No             2583   \n",
       "4   Male      No          0      Graduate            No             6000   \n",
       "\n",
       "   CoapplicantIncome  LoanAmount  Loan_Amount_Term  Credit_History  \\\n",
       "0                0.0         NaN             360.0             1.0   \n",
       "1             1508.0       128.0             360.0             1.0   \n",
       "2                0.0        66.0             360.0             1.0   \n",
       "3             2358.0       120.0             360.0             1.0   \n",
       "4                0.0       141.0             360.0             1.0   \n",
       "\n",
       "  Property_Area Loan_Status  \n",
       "0         Urban           Y  \n",
       "1         Rural           N  \n",
       "2         Urban           Y  \n",
       "3         Urban           Y  \n",
       "4         Urban           Y  "
      ]
     },
     "execution_count": 24,
     "metadata": {},
     "output_type": "execute_result"
    }
   ],
   "source": [
    "lp_hc.head()"
   ]
  },
  {
   "cell_type": "code",
   "execution_count": 27,
   "id": "1e506f80",
   "metadata": {},
   "outputs": [
    {
     "data": {
      "text/html": [
       "<div>\n",
       "<style scoped>\n",
       "    .dataframe tbody tr th:only-of-type {\n",
       "        vertical-align: middle;\n",
       "    }\n",
       "\n",
       "    .dataframe tbody tr th {\n",
       "        vertical-align: top;\n",
       "    }\n",
       "\n",
       "    .dataframe thead th {\n",
       "        text-align: right;\n",
       "    }\n",
       "</style>\n",
       "<table border=\"1\" class=\"dataframe\">\n",
       "  <thead>\n",
       "    <tr style=\"text-align: right;\">\n",
       "      <th></th>\n",
       "      <th>Gender</th>\n",
       "      <th>Married</th>\n",
       "      <th>Dependents</th>\n",
       "      <th>Education</th>\n",
       "      <th>Self_Employed</th>\n",
       "      <th>ApplicantIncome</th>\n",
       "      <th>CoapplicantIncome</th>\n",
       "      <th>LoanAmount</th>\n",
       "      <th>Loan_Amount_Term</th>\n",
       "      <th>Credit_History</th>\n",
       "      <th>Property_Area</th>\n",
       "    </tr>\n",
       "  </thead>\n",
       "  <tbody>\n",
       "    <tr>\n",
       "      <th>0</th>\n",
       "      <td>Male</td>\n",
       "      <td>Yes</td>\n",
       "      <td>0</td>\n",
       "      <td>Graduate</td>\n",
       "      <td>No</td>\n",
       "      <td>5720</td>\n",
       "      <td>0</td>\n",
       "      <td>110.0</td>\n",
       "      <td>360.0</td>\n",
       "      <td>1.0</td>\n",
       "      <td>Urban</td>\n",
       "    </tr>\n",
       "    <tr>\n",
       "      <th>1</th>\n",
       "      <td>Male</td>\n",
       "      <td>Yes</td>\n",
       "      <td>1</td>\n",
       "      <td>Graduate</td>\n",
       "      <td>No</td>\n",
       "      <td>3076</td>\n",
       "      <td>1500</td>\n",
       "      <td>126.0</td>\n",
       "      <td>360.0</td>\n",
       "      <td>1.0</td>\n",
       "      <td>Urban</td>\n",
       "    </tr>\n",
       "    <tr>\n",
       "      <th>2</th>\n",
       "      <td>Male</td>\n",
       "      <td>Yes</td>\n",
       "      <td>2</td>\n",
       "      <td>Graduate</td>\n",
       "      <td>No</td>\n",
       "      <td>5000</td>\n",
       "      <td>1800</td>\n",
       "      <td>208.0</td>\n",
       "      <td>360.0</td>\n",
       "      <td>1.0</td>\n",
       "      <td>Urban</td>\n",
       "    </tr>\n",
       "    <tr>\n",
       "      <th>3</th>\n",
       "      <td>Male</td>\n",
       "      <td>Yes</td>\n",
       "      <td>2</td>\n",
       "      <td>Graduate</td>\n",
       "      <td>No</td>\n",
       "      <td>2340</td>\n",
       "      <td>2546</td>\n",
       "      <td>100.0</td>\n",
       "      <td>360.0</td>\n",
       "      <td>NaN</td>\n",
       "      <td>Urban</td>\n",
       "    </tr>\n",
       "    <tr>\n",
       "      <th>4</th>\n",
       "      <td>Male</td>\n",
       "      <td>No</td>\n",
       "      <td>0</td>\n",
       "      <td>Not Graduate</td>\n",
       "      <td>No</td>\n",
       "      <td>3276</td>\n",
       "      <td>0</td>\n",
       "      <td>78.0</td>\n",
       "      <td>360.0</td>\n",
       "      <td>1.0</td>\n",
       "      <td>Urban</td>\n",
       "    </tr>\n",
       "  </tbody>\n",
       "</table>\n",
       "</div>"
      ],
      "text/plain": [
       "  Gender Married Dependents     Education Self_Employed  ApplicantIncome  \\\n",
       "0   Male     Yes          0      Graduate            No             5720   \n",
       "1   Male     Yes          1      Graduate            No             3076   \n",
       "2   Male     Yes          2      Graduate            No             5000   \n",
       "3   Male     Yes          2      Graduate            No             2340   \n",
       "4   Male      No          0  Not Graduate            No             3276   \n",
       "\n",
       "   CoapplicantIncome  LoanAmount  Loan_Amount_Term  Credit_History  \\\n",
       "0                  0       110.0             360.0             1.0   \n",
       "1               1500       126.0             360.0             1.0   \n",
       "2               1800       208.0             360.0             1.0   \n",
       "3               2546       100.0             360.0             NaN   \n",
       "4                  0        78.0             360.0             1.0   \n",
       "\n",
       "  Property_Area  \n",
       "0         Urban  \n",
       "1         Urban  \n",
       "2         Urban  \n",
       "3         Urban  \n",
       "4         Urban  "
      ]
     },
     "execution_count": 27,
     "metadata": {},
     "output_type": "execute_result"
    }
   ],
   "source": [
    "lp_test.head()"
   ]
  },
  {
   "cell_type": "code",
   "execution_count": 28,
   "id": "f300cd10",
   "metadata": {},
   "outputs": [
    {
     "data": {
      "text/plain": [
       "Credit_History       50\n",
       "Self_Employed        32\n",
       "LoanAmount           22\n",
       "Dependents           15\n",
       "Loan_Amount_Term     14\n",
       "Gender               13\n",
       "Married               3\n",
       "Education             0\n",
       "ApplicantIncome       0\n",
       "CoapplicantIncome     0\n",
       "Property_Area         0\n",
       "Loan_Status           0\n",
       "dtype: int64"
      ]
     },
     "execution_count": 28,
     "metadata": {},
     "output_type": "execute_result"
    }
   ],
   "source": [
    "#find missing valuesin descending values\n",
    "lp_hc.isnull().sum().sort_values(ascending=False)"
   ]
  },
  {
   "cell_type": "code",
   "execution_count": 30,
   "id": "c92c58c7",
   "metadata": {},
   "outputs": [
    {
     "name": "stdout",
     "output_type": "stream",
     "text": [
      "Before filling missing values\n",
      "\n",
      " ################################################## \n",
      "\n"
     ]
    }
   ],
   "source": [
    "#fill the missing values\n",
    "\n",
    "print(\"Before filling missing values\\n\\n\",\"#\"*50,\"\\n\")\n",
    "null_cols = ['Credit_History', 'Self_Employed', 'LoanAmount','Dependents', 'Loan_Amount_Term', 'Gender', 'Married']\n"
   ]
  },
  {
   "cell_type": "code",
   "execution_count": 31,
   "id": "5ebe3d27",
   "metadata": {},
   "outputs": [
    {
     "name": "stdout",
     "output_type": "stream",
     "text": [
      "Credit_History:\n",
      "1.0    475\n",
      "0.0     89\n",
      "Name: Credit_History, dtype: int64\n",
      " --------------------------------------------------\n",
      "Self_Employed:\n",
      "No     500\n",
      "Yes     82\n",
      "Name: Self_Employed, dtype: int64\n",
      " --------------------------------------------------\n",
      "LoanAmount:\n",
      "120.0    20\n",
      "110.0    17\n",
      "100.0    15\n",
      "160.0    12\n",
      "187.0    12\n",
      "         ..\n",
      "211.0     1\n",
      "250.0     1\n",
      "62.0      1\n",
      "85.0      1\n",
      "436.0     1\n",
      "Name: LoanAmount, Length: 203, dtype: int64\n",
      " --------------------------------------------------\n",
      "Dependents:\n",
      "0     345\n",
      "1     102\n",
      "2     101\n",
      "3+     51\n",
      "Name: Dependents, dtype: int64\n",
      " --------------------------------------------------\n",
      "Loan_Amount_Term:\n",
      "360.0    512\n",
      "180.0     44\n",
      "480.0     15\n",
      "300.0     13\n",
      "84.0       4\n",
      "240.0      4\n",
      "120.0      3\n",
      "36.0       2\n",
      "60.0       2\n",
      "12.0       1\n",
      "Name: Loan_Amount_Term, dtype: int64\n",
      " --------------------------------------------------\n",
      "Gender:\n",
      "Male      489\n",
      "Female    112\n",
      "Name: Gender, dtype: int64\n",
      " --------------------------------------------------\n",
      "Married:\n",
      "Yes    398\n",
      "No     213\n",
      "Name: Married, dtype: int64\n",
      " --------------------------------------------------\n"
     ]
    }
   ],
   "source": [
    "for col in null_cols:\n",
    "    print(f\"{col}:\\n{lp_hc[col].value_counts()}\\n\",\"-\"*50)\n",
    "    lp_hc[col] = lp_hc[col].fillna(\n",
    "    lp_hc[col].dropna().mode().values[0] )   "
   ]
  },
  {
   "cell_type": "code",
   "execution_count": 32,
   "id": "385d6703",
   "metadata": {},
   "outputs": [
    {
     "name": "stdout",
     "output_type": "stream",
     "text": [
      "After filling missing values\n",
      "\n",
      " ################################################## \n",
      "\n",
      "\n",
      "Credit_History:\n",
      "1.0    525\n",
      "0.0     89\n",
      "Name: Credit_History, dtype: int64\n",
      " --------------------------------------------------\n",
      "\n",
      "Self_Employed:\n",
      "No     532\n",
      "Yes     82\n",
      "Name: Self_Employed, dtype: int64\n",
      " --------------------------------------------------\n",
      "\n",
      "LoanAmount:\n",
      "120.0    42\n",
      "110.0    17\n",
      "100.0    15\n",
      "160.0    12\n",
      "187.0    12\n",
      "         ..\n",
      "211.0     1\n",
      "250.0     1\n",
      "62.0      1\n",
      "85.0      1\n",
      "436.0     1\n",
      "Name: LoanAmount, Length: 203, dtype: int64\n",
      " --------------------------------------------------\n",
      "\n",
      "Dependents:\n",
      "0     360\n",
      "1     102\n",
      "2     101\n",
      "3+     51\n",
      "Name: Dependents, dtype: int64\n",
      " --------------------------------------------------\n",
      "\n",
      "Loan_Amount_Term:\n",
      "360.0    526\n",
      "180.0     44\n",
      "480.0     15\n",
      "300.0     13\n",
      "84.0       4\n",
      "240.0      4\n",
      "120.0      3\n",
      "36.0       2\n",
      "60.0       2\n",
      "12.0       1\n",
      "Name: Loan_Amount_Term, dtype: int64\n",
      " --------------------------------------------------\n",
      "\n",
      "Gender:\n",
      "Male      502\n",
      "Female    112\n",
      "Name: Gender, dtype: int64\n",
      " --------------------------------------------------\n",
      "\n",
      "Married:\n",
      "Yes    401\n",
      "No     213\n",
      "Name: Married, dtype: int64\n",
      " --------------------------------------------------\n"
     ]
    }
   ],
   "source": [
    "lp_hc.isnull().sum().sort_values(ascending=False)\n",
    "print(\"After filling missing values\\n\\n\",\"#\"*50,\"\\n\")\n",
    "for col in null_cols:\n",
    "    print(f\"\\n{col}:\\n{lp_hc[col].value_counts()}\\n\",\"-\"*50)"
   ]
  },
  {
   "cell_type": "code",
   "execution_count": 34,
   "id": "54162d14",
   "metadata": {},
   "outputs": [],
   "source": [
    "#list of numeric values\n",
    "numeric_values = lp_hc.select_dtypes('number').columns.to_list()\n",
    "#list of categorical values\n",
    "categorical_values = lp_hc.select_dtypes('object').columns.to_list()"
   ]
  },
  {
   "cell_type": "code",
   "execution_count": 36,
   "id": "1cf395ca",
   "metadata": {},
   "outputs": [],
   "source": [
    "#numeric df\n",
    "loan_num =  lp_hc[numeric_values]\n",
    "#categoric df\n",
    "loan_cat = lp_hc[categorical_values]"
   ]
  },
  {
   "cell_type": "code",
   "execution_count": 37,
   "id": "d14784a5",
   "metadata": {},
   "outputs": [
    {
     "name": "stdout",
     "output_type": "stream",
     "text": [
      "Y    422\n",
      "N    192\n",
      "Name: Loan_Status, dtype: int64\n"
     ]
    }
   ],
   "source": [
    "print(lp_hc[categorical_values[-1]].value_counts())"
   ]
  },
  {
   "cell_type": "code",
   "execution_count": 38,
   "id": "8963ee8f",
   "metadata": {},
   "outputs": [
    {
     "name": "stderr",
     "output_type": "stream",
     "text": [
      "C:\\Users\\dakha\\anaconda3\\lib\\site-packages\\seaborn\\_decorators.py:36: FutureWarning: Pass the following variable as a keyword arg: x. From version 0.12, the only valid positional argument will be `data`, and passing other arguments without an explicit keyword will result in an error or misinterpretation.\n",
      "  warnings.warn(\n"
     ]
    },
    {
     "data": {
      "image/png": "[encoded data removed]",
      "text/plain": [
       "<Figure size 576x720 with 1 Axes>"
      ]
     },
     "metadata": {
      "needs_background": "light"
     },
     "output_type": "display_data"
    }
   ],
   "source": [
    "#print(i)\n",
    "total = float(len(lp_hc[categorical_values[-1]]))\n",
    "plt.figure(figsize=(8,10))\n",
    "sns.set(style=\"whitegrid\")\n",
    "ax = sns.countplot(lp_hc[categorical_values[-1]])\n",
    "for p in ax.patches:\n",
    "    height = p.get_height()\n",
    "    ax.text(p.get_x()+p.get_width()/2.,height + 3,'{:1.2f}'.format(height/total),ha=\"center\") \n",
    "plt.show()"
   ]
  },
  {
   "cell_type": "code",
   "execution_count": 39,
   "id": "34a932a6",
   "metadata": {},
   "outputs": [
    {
     "data": {
      "image/png": "[encoded data removed]",
      "text/plain": [
       "<Figure size 432x288 with 1 Axes>"
      ]
     },
     "metadata": {},
     "output_type": "display_data"
    },
    {
     "data": {
      "image/png": "[encoded data removed]",
      "text/plain": [
       "<Figure size 432x288 with 1 Axes>"
      ]
     },
     "metadata": {},
     "output_type": "display_data"
    },
    {
     "data": {
      "image/png": "[encoded data removed]",
      "text/plain": [
       "<Figure size 432x288 with 1 Axes>"
      ]
     },
     "metadata": {},
     "output_type": "display_data"
    },
    {
     "data": {
      "image/png": "[encoded data removed]",
      "text/plain": [
       "<Figure size 432x288 with 1 Axes>"
      ]
     },
     "metadata": {},
     "output_type": "display_data"
    },
    {
     "data": {
      "image/png": "[encoded data removed]",
      "text/plain": [
       "<Figure size 432x288 with 1 Axes>"
      ]
     },
     "metadata": {},
     "output_type": "display_data"
    }
   ],
   "source": [
    "for i in loan_num:\n",
    "    plt.hist(loan_num[i])\n",
    "    plt.title(i)\n",
    "    plt.show()"
   ]
  },
  {
   "cell_type": "code",
   "execution_count": 42,
   "id": "23082f0e",
   "metadata": {},
   "outputs": [
    {
     "data": {
      "image/png": "[encoded data removed]",
      "text/plain": [
       "<Figure size 1080x720 with 1 Axes>"
      ]
     },
     "metadata": {},
     "output_type": "display_data"
    },
    {
     "data": {
      "image/png": "[encoded data removed]",
      "text/plain": [
       "<Figure size 1080x720 with 1 Axes>"
      ]
     },
     "metadata": {},
     "output_type": "display_data"
    },
    {
     "data": {
      "image/png": "[encoded data removed]",
      "text/plain": [
       "<Figure size 1080x720 with 1 Axes>"
      ]
     },
     "metadata": {},
     "output_type": "display_data"
    },
    {
     "data": {
      "image/png": "[encoded data removed]",
      "text/plain": [
       "<Figure size 1080x720 with 1 Axes>"
      ]
     },
     "metadata": {},
     "output_type": "display_data"
    },
    {
     "data": {
      "image/png": "[encoded data removed]",
      "text/plain": [
       "<Figure size 1080x720 with 1 Axes>"
      ]
     },
     "metadata": {},
     "output_type": "display_data"
    },
    {
     "data": {
      "image/png": "[encoded data removed]",
      "text/plain": [
       "<Figure size 1080x720 with 1 Axes>"
      ]
     },
     "metadata": {},
     "output_type": "display_data"
    }
   ],
   "source": [
    "# split of categorical data \n",
    "for i in categorical_values[:-1]: \n",
    "    plt.figure(figsize=(15,10))\n",
    "    plt.subplot(2,3,1)\n",
    "    sns.countplot(x=i ,hue='Loan_Status', data=lp_hc ,palette='plasma')\n",
    "    plt.xlabel(i, fontsize=14)"
   ]
  },
  {
   "cell_type": "code",
   "execution_count": 43,
   "id": "a9ba2bae",
   "metadata": {},
   "outputs": [],
   "source": [
    "# converting categorical data into numeric data\n",
    "to_numeric = {'Male': 1, 'Female': 2,\n",
    "'Yes': 1, 'No': 2,\n",
    "'Graduate': 1, 'Not Graduate': 2,\n",
    "'Urban': 3, 'Semiurban': 2,'Rural': 1,\n",
    "'Y': 1, 'N': 0,\n",
    "'3+': 3}"
   ]
  },
  {
   "cell_type": "code",
   "execution_count": 44,
   "id": "579635c2",
   "metadata": {},
   "outputs": [],
   "source": [
    "# adding the new numeric values from the to_numeric variable to both datasets\n",
    "lp_hc = lp_hc.applymap(lambda lable: to_numeric.get(lable) if lable in to_numeric else lable)\n",
    "lp_test = lp_test.applymap(lambda lable: to_numeric.get(lable) if lable in to_numeric else lable)\n"
   ]
  },
  {
   "cell_type": "code",
   "execution_count": 45,
   "id": "45937d2e",
   "metadata": {},
   "outputs": [],
   "source": [
    "# converting the Dependents column\n",
    "Dependents_ = pd.to_numeric(lp_hc.Dependents)\n",
    "Dependents__ = pd.to_numeric(lp_test.Dependents)"
   ]
  },
  {
   "cell_type": "code",
   "execution_count": 46,
   "id": "e747463d",
   "metadata": {},
   "outputs": [],
   "source": [
    "# dropping the previous Dependents column\n",
    "lp_hc.drop(['Dependents'], axis = 1, inplace = True)\n",
    "lp_test.drop(['Dependents'], axis = 1, inplace = True)\n"
   ]
  },
  {
   "cell_type": "code",
   "execution_count": 47,
   "id": "f87b28ad",
   "metadata": {},
   "outputs": [],
   "source": [
    "# concatination of the new Dependents column with both datasets\n",
    "lp_hc = pd.concat([lp_hc, Dependents_], axis = 1)\n",
    "lp_test = pd.concat([lp_test, Dependents__], axis = 1)"
   ]
  },
  {
   "cell_type": "code",
   "execution_count": 48,
   "id": "728765a3",
   "metadata": {},
   "outputs": [
    {
     "name": "stdout",
     "output_type": "stream",
     "text": [
      "training set (row, col): (614, 12)\n",
      "\n",
      "testing set (row, col): (367, 11)\n",
      "\n",
      "<class 'pandas.core.frame.DataFrame'>\n",
      "RangeIndex: 614 entries, 0 to 613\n",
      "Data columns (total 12 columns):\n",
      " #   Column             Non-Null Count  Dtype  \n",
      "---  ------             --------------  -----  \n",
      " 0   Gender             614 non-null    int64  \n",
      " 1   Married            614 non-null    int64  \n",
      " 2   Education          614 non-null    int64  \n",
      " 3   Self_Employed      614 non-null    int64  \n",
      " 4   ApplicantIncome    614 non-null    int64  \n",
      " 5   CoapplicantIncome  614 non-null    float64\n",
      " 6   LoanAmount         614 non-null    float64\n",
      " 7   Loan_Amount_Term   614 non-null    float64\n",
      " 8   Credit_History     614 non-null    float64\n",
      " 9   Property_Area      614 non-null    int64  \n",
      " 10  Loan_Status        614 non-null    int64  \n",
      " 11  Dependents         614 non-null    int64  \n",
      "dtypes: float64(4), int64(8)\n",
      "memory usage: 57.7 KB\n",
      "<class 'pandas.core.frame.DataFrame'>\n",
      "RangeIndex: 367 entries, 0 to 366\n",
      "Data columns (total 11 columns):\n",
      " #   Column             Non-Null Count  Dtype  \n",
      "---  ------             --------------  -----  \n",
      " 0   Gender             356 non-null    float64\n",
      " 1   Married            367 non-null    int64  \n",
      " 2   Education          367 non-null    int64  \n",
      " 3   Self_Employed      344 non-null    float64\n",
      " 4   ApplicantIncome    367 non-null    int64  \n",
      " 5   CoapplicantIncome  367 non-null    int64  \n",
      " 6   LoanAmount         362 non-null    float64\n",
      " 7   Loan_Amount_Term   361 non-null    float64\n",
      " 8   Credit_History     338 non-null    float64\n",
      " 9   Property_Area      367 non-null    int64  \n",
      " 10  Dependents         357 non-null    float64\n",
      "dtypes: float64(6), int64(5)\n",
      "memory usage: 31.7 KB\n",
      "None \n",
      "\n",
      " None\n"
     ]
    }
   ],
   "source": [
    "# checking the our manipulated dataset for validation\n",
    "print(f\"training set (row, col): {lp_hc.shape}\\n\\ntesting set (row, col): {lp_test.shape}\\n\")\n",
    "print(lp_hc.info(), \"\\n\\n\", lp_test.info())"
   ]
  },
  {
   "cell_type": "code",
   "execution_count": 49,
   "id": "62c0ae51",
   "metadata": {},
   "outputs": [
    {
     "data": {
      "text/plain": [
       "<AxesSubplot:>"
      ]
     },
     "execution_count": 49,
     "metadata": {},
     "output_type": "execute_result"
    },
    {
     "data": {
      "image/png": "[encoded data removed]",
      "text/plain": [
       "<Figure size 432x288 with 2 Axes>"
      ]
     },
     "metadata": {},
     "output_type": "display_data"
    }
   ],
   "source": [
    "#plotting the correlation matrix\n",
    "sns.heatmap(lp_hc.corr() ,cmap='cubehelix_r')"
   ]
  },
  {
   "cell_type": "code",
   "execution_count": 50,
   "id": "8032fd1a",
   "metadata": {},
   "outputs": [
    {
     "data": {
      "text/html": [
       "<style  type=\"text/css\" >\n",
       "#T_7cf7b_row0_col0,#T_7cf7b_row1_col1,#T_7cf7b_row2_col2,#T_7cf7b_row3_col3,#T_7cf7b_row4_col4,#T_7cf7b_row5_col5,#T_7cf7b_row6_col6,#T_7cf7b_row7_col7,#T_7cf7b_row8_col8,#T_7cf7b_row9_col9,#T_7cf7b_row10_col10,#T_7cf7b_row11_col11{\n",
       "            background-color:  #b40426;\n",
       "            color:  #f1f1f1;\n",
       "        }#T_7cf7b_row0_col1{\n",
       "            background-color:  #e3d9d3;\n",
       "            color:  #000000;\n",
       "        }#T_7cf7b_row0_col2,#T_7cf7b_row2_col0,#T_7cf7b_row8_col4{\n",
       "            background-color:  #5b7ae5;\n",
       "            color:  #000000;\n",
       "        }#T_7cf7b_row0_col3,#T_7cf7b_row9_col10{\n",
       "            background-color:  #5d7ce6;\n",
       "            color:  #000000;\n",
       "        }#T_7cf7b_row0_col4,#T_7cf7b_row8_col9,#T_7cf7b_row9_col8,#T_7cf7b_row10_col2,#T_7cf7b_row10_col7,#T_7cf7b_row11_col9{\n",
       "            background-color:  #506bda;\n",
       "            color:  #000000;\n",
       "        }#T_7cf7b_row0_col5,#T_7cf7b_row5_col10,#T_7cf7b_row11_col8{\n",
       "            background-color:  #4358cb;\n",
       "            color:  #f1f1f1;\n",
       "        }#T_7cf7b_row0_col6,#T_7cf7b_row4_col7,#T_7cf7b_row4_col8,#T_7cf7b_row6_col10,#T_7cf7b_row7_col5,#T_7cf7b_row10_col5{\n",
       "            background-color:  #4a63d3;\n",
       "            color:  #f1f1f1;\n",
       "        }#T_7cf7b_row0_col7{\n",
       "            background-color:  #6e90f2;\n",
       "            color:  #000000;\n",
       "        }#T_7cf7b_row0_col8,#T_7cf7b_row4_col9,#T_7cf7b_row11_col3{\n",
       "            background-color:  #4c66d6;\n",
       "            color:  #000000;\n",
       "        }#T_7cf7b_row0_col9,#T_7cf7b_row4_col0{\n",
       "            background-color:  #5875e1;\n",
       "            color:  #000000;\n",
       "        }#T_7cf7b_row0_col10,#T_7cf7b_row1_col9,#T_7cf7b_row3_col8,#T_7cf7b_row6_col8{\n",
       "            background-color:  #4f69d9;\n",
       "            color:  #000000;\n",
       "        }#T_7cf7b_row0_col11,#T_7cf7b_row3_col5,#T_7cf7b_row10_col4,#T_7cf7b_row10_col6{\n",
       "            background-color:  #5f7fe8;\n",
       "            color:  #000000;\n",
       "        }#T_7cf7b_row1_col0{\n",
       "            background-color:  #d2dbe8;\n",
       "            color:  #000000;\n",
       "        }#T_7cf7b_row1_col2{\n",
       "            background-color:  #6485ec;\n",
       "            color:  #000000;\n",
       "        }#T_7cf7b_row1_col3,#T_7cf7b_row8_col3,#T_7cf7b_row8_col5,#T_7cf7b_row9_col4,#T_7cf7b_row9_col5,#T_7cf7b_row10_col3{\n",
       "            background-color:  #5e7de7;\n",
       "            color:  #000000;\n",
       "        }#T_7cf7b_row1_col4,#T_7cf7b_row5_col0{\n",
       "            background-color:  #516ddb;\n",
       "            color:  #000000;\n",
       "        }#T_7cf7b_row1_col5{\n",
       "            background-color:  #455cce;\n",
       "            color:  #f1f1f1;\n",
       "        }#T_7cf7b_row1_col6,#T_7cf7b_row5_col4{\n",
       "            background-color:  #4055c8;\n",
       "            color:  #f1f1f1;\n",
       "        }#T_7cf7b_row1_col7{\n",
       "            background-color:  #7699f6;\n",
       "            color:  #000000;\n",
       "        }#T_7cf7b_row1_col8,#T_7cf7b_row6_col0{\n",
       "            background-color:  #4b64d5;\n",
       "            color:  #f1f1f1;\n",
       "        }#T_7cf7b_row1_col10,#T_7cf7b_row1_col11,#T_7cf7b_row2_col4,#T_7cf7b_row2_col6,#T_7cf7b_row2_col8,#T_7cf7b_row4_col3,#T_7cf7b_row4_col5,#T_7cf7b_row6_col2,#T_7cf7b_row7_col9,#T_7cf7b_row11_col0,#T_7cf7b_row11_col1,#T_7cf7b_row11_col7{\n",
       "            background-color:  #3b4cc0;\n",
       "            color:  #f1f1f1;\n",
       "        }#T_7cf7b_row2_col1{\n",
       "            background-color:  #89acfd;\n",
       "            color:  #000000;\n",
       "        }#T_7cf7b_row2_col3,#T_7cf7b_row3_col7{\n",
       "            background-color:  #6180e9;\n",
       "            color:  #000000;\n",
       "        }#T_7cf7b_row2_col5{\n",
       "            background-color:  #4961d2;\n",
       "            color:  #f1f1f1;\n",
       "        }#T_7cf7b_row2_col7,#T_7cf7b_row4_col2,#T_7cf7b_row6_col9,#T_7cf7b_row9_col7{\n",
       "            background-color:  #4257c9;\n",
       "            color:  #f1f1f1;\n",
       "        }#T_7cf7b_row2_col9,#T_7cf7b_row6_col3{\n",
       "            background-color:  #3d50c3;\n",
       "            color:  #f1f1f1;\n",
       "        }#T_7cf7b_row2_col10{\n",
       "            background-color:  #3c4ec2;\n",
       "            color:  #f1f1f1;\n",
       "        }#T_7cf7b_row2_col11{\n",
       "            background-color:  #9bbcff;\n",
       "            color:  #000000;\n",
       "        }#T_7cf7b_row3_col0,#T_7cf7b_row8_col6{\n",
       "            background-color:  #688aef;\n",
       "            color:  #000000;\n",
       "        }#T_7cf7b_row3_col1,#T_7cf7b_row9_col11{\n",
       "            background-color:  #8db0fe;\n",
       "            color:  #000000;\n",
       "        }#T_7cf7b_row3_col2{\n",
       "            background-color:  #6b8df0;\n",
       "            color:  #000000;\n",
       "        }#T_7cf7b_row3_col4{\n",
       "            background-color:  #3e51c5;\n",
       "            color:  #f1f1f1;\n",
       "        }#T_7cf7b_row3_col6{\n",
       "            background-color:  #485fd1;\n",
       "            color:  #f1f1f1;\n",
       "        }#T_7cf7b_row3_col9,#T_7cf7b_row10_col9{\n",
       "            background-color:  #5977e3;\n",
       "            color:  #000000;\n",
       "        }#T_7cf7b_row3_col10,#T_7cf7b_row8_col7,#T_7cf7b_row9_col2{\n",
       "            background-color:  #5572df;\n",
       "            color:  #000000;\n",
       "        }#T_7cf7b_row3_col11,#T_7cf7b_row7_col0{\n",
       "            background-color:  #7ea1fa;\n",
       "            color:  #000000;\n",
       "        }#T_7cf7b_row4_col1{\n",
       "            background-color:  #80a3fa;\n",
       "            color:  #000000;\n",
       "        }#T_7cf7b_row4_col6{\n",
       "            background-color:  #f5c4ac;\n",
       "            color:  #000000;\n",
       "        }#T_7cf7b_row4_col10,#T_7cf7b_row5_col8,#T_7cf7b_row5_col9,#T_7cf7b_row7_col2,#T_7cf7b_row8_col2{\n",
       "            background-color:  #536edd;\n",
       "            color:  #000000;\n",
       "        }#T_7cf7b_row4_col11{\n",
       "            background-color:  #abc8fd;\n",
       "            color:  #000000;\n",
       "        }#T_7cf7b_row5_col1,#T_7cf7b_row11_col2{\n",
       "            background-color:  #799cf8;\n",
       "            color:  #000000;\n",
       "        }#T_7cf7b_row5_col2,#T_7cf7b_row11_col10{\n",
       "            background-color:  #5673e0;\n",
       "            color:  #000000;\n",
       "        }#T_7cf7b_row5_col3,#T_7cf7b_row6_col7{\n",
       "            background-color:  #6282ea;\n",
       "            color:  #000000;\n",
       "        }#T_7cf7b_row5_col6{\n",
       "            background-color:  #a1c0ff;\n",
       "            color:  #000000;\n",
       "        }#T_7cf7b_row5_col7{\n",
       "            background-color:  #465ecf;\n",
       "            color:  #f1f1f1;\n",
       "        }#T_7cf7b_row5_col11{\n",
       "            background-color:  #94b6ff;\n",
       "            color:  #000000;\n",
       "        }#T_7cf7b_row6_col1,#T_7cf7b_row7_col3{\n",
       "            background-color:  #6788ee;\n",
       "            color:  #000000;\n",
       "        }#T_7cf7b_row6_col4{\n",
       "            background-color:  #f4c6af;\n",
       "            color:  #000000;\n",
       "        }#T_7cf7b_row6_col5{\n",
       "            background-color:  #96b7ff;\n",
       "            color:  #000000;\n",
       "        }#T_7cf7b_row6_col11{\n",
       "            background-color:  #b7cff9;\n",
       "            color:  #000000;\n",
       "        }#T_7cf7b_row7_col1{\n",
       "            background-color:  #a7c5fe;\n",
       "            color:  #000000;\n",
       "        }#T_7cf7b_row7_col4{\n",
       "            background-color:  #5470de;\n",
       "            color:  #000000;\n",
       "        }#T_7cf7b_row7_col6{\n",
       "            background-color:  #7396f5;\n",
       "            color:  #000000;\n",
       "        }#T_7cf7b_row7_col8,#T_7cf7b_row7_col10{\n",
       "            background-color:  #4e68d8;\n",
       "            color:  #000000;\n",
       "        }#T_7cf7b_row7_col11{\n",
       "            background-color:  #7295f4;\n",
       "            color:  #000000;\n",
       "        }#T_7cf7b_row8_col0,#T_7cf7b_row9_col3{\n",
       "            background-color:  #6687ed;\n",
       "            color:  #000000;\n",
       "        }#T_7cf7b_row8_col1{\n",
       "            background-color:  #8badfd;\n",
       "            color:  #000000;\n",
       "        }#T_7cf7b_row8_col10{\n",
       "            background-color:  #efcfbf;\n",
       "            color:  #000000;\n",
       "        }#T_7cf7b_row8_col11{\n",
       "            background-color:  #82a6fb;\n",
       "            color:  #000000;\n",
       "        }#T_7cf7b_row9_col0{\n",
       "            background-color:  #7093f3;\n",
       "            color:  #000000;\n",
       "        }#T_7cf7b_row9_col1{\n",
       "            background-color:  #8caffe;\n",
       "            color:  #000000;\n",
       "        }#T_7cf7b_row9_col6{\n",
       "            background-color:  #5a78e4;\n",
       "            color:  #000000;\n",
       "        }#T_7cf7b_row10_col0,#T_7cf7b_row11_col5{\n",
       "            background-color:  #6384eb;\n",
       "            color:  #000000;\n",
       "        }#T_7cf7b_row10_col1{\n",
       "            background-color:  #7597f6;\n",
       "            color:  #000000;\n",
       "        }#T_7cf7b_row10_col8{\n",
       "            background-color:  #edd1c2;\n",
       "            color:  #000000;\n",
       "        }#T_7cf7b_row10_col11{\n",
       "            background-color:  #90b2fe;\n",
       "            color:  #000000;\n",
       "        }#T_7cf7b_row11_col4{\n",
       "            background-color:  #85a8fc;\n",
       "            color:  #000000;\n",
       "        }#T_7cf7b_row11_col6{\n",
       "            background-color:  #98b9ff;\n",
       "            color:  #000000;\n",
       "        }</style><table id=\"T_7cf7b_\" ><thead>    <tr>        <th class=\"blank level0\" ></th>        <th class=\"col_heading level0 col0\" >Gender</th>        <th class=\"col_heading level0 col1\" >Married</th>        <th class=\"col_heading level0 col2\" >Education</th>        <th class=\"col_heading level0 col3\" >Self_Employed</th>        <th class=\"col_heading level0 col4\" >ApplicantIncome</th>        <th class=\"col_heading level0 col5\" >CoapplicantIncome</th>        <th class=\"col_heading level0 col6\" >LoanAmount</th>        <th class=\"col_heading level0 col7\" >Loan_Amount_Term</th>        <th class=\"col_heading level0 col8\" >Credit_History</th>        <th class=\"col_heading level0 col9\" >Property_Area</th>        <th class=\"col_heading level0 col10\" >Loan_Status</th>        <th class=\"col_heading level0 col11\" >Dependents</th>    </tr></thead><tbody>\n",
       "                <tr>\n",
       "                        <th id=\"T_7cf7b_level0_row0\" class=\"row_heading level0 row0\" >Gender</th>\n",
       "                        <td id=\"T_7cf7b_row0_col0\" class=\"data row0 col0\" >1.00</td>\n",
       "                        <td id=\"T_7cf7b_row0_col1\" class=\"data row0 col1\" >0.36</td>\n",
       "                        <td id=\"T_7cf7b_row0_col2\" class=\"data row0 col2\" >-0.05</td>\n",
       "                        <td id=\"T_7cf7b_row0_col3\" class=\"data row0 col3\" >-0.00</td>\n",
       "                        <td id=\"T_7cf7b_row0_col4\" class=\"data row0 col4\" >-0.06</td>\n",
       "                        <td id=\"T_7cf7b_row0_col5\" class=\"data row0 col5\" >-0.08</td>\n",
       "                        <td id=\"T_7cf7b_row0_col6\" class=\"data row0 col6\" >-0.11</td>\n",
       "                        <td id=\"T_7cf7b_row0_col7\" class=\"data row0 col7\" >0.07</td>\n",
       "                        <td id=\"T_7cf7b_row0_col8\" class=\"data row0 col8\" >-0.01</td>\n",
       "                        <td id=\"T_7cf7b_row0_col9\" class=\"data row0 col9\" >0.03</td>\n",
       "                        <td id=\"T_7cf7b_row0_col10\" class=\"data row0 col10\" >-0.02</td>\n",
       "                        <td id=\"T_7cf7b_row0_col11\" class=\"data row0 col11\" >-0.17</td>\n",
       "            </tr>\n",
       "            <tr>\n",
       "                        <th id=\"T_7cf7b_level0_row1\" class=\"row_heading level0 row1\" >Married</th>\n",
       "                        <td id=\"T_7cf7b_row1_col0\" class=\"data row1 col0\" >0.36</td>\n",
       "                        <td id=\"T_7cf7b_row1_col1\" class=\"data row1 col1\" >1.00</td>\n",
       "                        <td id=\"T_7cf7b_row1_col2\" class=\"data row1 col2\" >-0.01</td>\n",
       "                        <td id=\"T_7cf7b_row1_col3\" class=\"data row1 col3\" >0.00</td>\n",
       "                        <td id=\"T_7cf7b_row1_col4\" class=\"data row1 col4\" >-0.05</td>\n",
       "                        <td id=\"T_7cf7b_row1_col5\" class=\"data row1 col5\" >-0.08</td>\n",
       "                        <td id=\"T_7cf7b_row1_col6\" class=\"data row1 col6\" >-0.15</td>\n",
       "                        <td id=\"T_7cf7b_row1_col7\" class=\"data row1 col7\" >0.10</td>\n",
       "                        <td id=\"T_7cf7b_row1_col8\" class=\"data row1 col8\" >-0.01</td>\n",
       "                        <td id=\"T_7cf7b_row1_col9\" class=\"data row1 col9\" >-0.00</td>\n",
       "                        <td id=\"T_7cf7b_row1_col10\" class=\"data row1 col10\" >-0.09</td>\n",
       "                        <td id=\"T_7cf7b_row1_col11\" class=\"data row1 col11\" >-0.33</td>\n",
       "            </tr>\n",
       "            <tr>\n",
       "                        <th id=\"T_7cf7b_level0_row2\" class=\"row_heading level0 row2\" >Education</th>\n",
       "                        <td id=\"T_7cf7b_row2_col0\" class=\"data row2 col0\" >-0.05</td>\n",
       "                        <td id=\"T_7cf7b_row2_col1\" class=\"data row2 col1\" >-0.01</td>\n",
       "                        <td id=\"T_7cf7b_row2_col2\" class=\"data row2 col2\" >1.00</td>\n",
       "                        <td id=\"T_7cf7b_row2_col3\" class=\"data row2 col3\" >0.01</td>\n",
       "                        <td id=\"T_7cf7b_row2_col4\" class=\"data row2 col4\" >-0.14</td>\n",
       "                        <td id=\"T_7cf7b_row2_col5\" class=\"data row2 col5\" >-0.06</td>\n",
       "                        <td id=\"T_7cf7b_row2_col6\" class=\"data row2 col6\" >-0.17</td>\n",
       "                        <td id=\"T_7cf7b_row2_col7\" class=\"data row2 col7\" >-0.07</td>\n",
       "                        <td id=\"T_7cf7b_row2_col8\" class=\"data row2 col8\" >-0.07</td>\n",
       "                        <td id=\"T_7cf7b_row2_col9\" class=\"data row2 col9\" >-0.07</td>\n",
       "                        <td id=\"T_7cf7b_row2_col10\" class=\"data row2 col10\" >-0.09</td>\n",
       "                        <td id=\"T_7cf7b_row2_col11\" class=\"data row2 col11\" >0.06</td>\n",
       "            </tr>\n",
       "            <tr>\n",
       "                        <th id=\"T_7cf7b_level0_row3\" class=\"row_heading level0 row3\" >Self_Employed</th>\n",
       "                        <td id=\"T_7cf7b_row3_col0\" class=\"data row3 col0\" >-0.00</td>\n",
       "                        <td id=\"T_7cf7b_row3_col1\" class=\"data row3 col1\" >0.00</td>\n",
       "                        <td id=\"T_7cf7b_row3_col2\" class=\"data row3 col2\" >0.01</td>\n",
       "                        <td id=\"T_7cf7b_row3_col3\" class=\"data row3 col3\" >1.00</td>\n",
       "                        <td id=\"T_7cf7b_row3_col4\" class=\"data row3 col4\" >-0.13</td>\n",
       "                        <td id=\"T_7cf7b_row3_col5\" class=\"data row3 col5\" >0.02</td>\n",
       "                        <td id=\"T_7cf7b_row3_col6\" class=\"data row3 col6\" >-0.11</td>\n",
       "                        <td id=\"T_7cf7b_row3_col7\" class=\"data row3 col7\" >0.03</td>\n",
       "                        <td id=\"T_7cf7b_row3_col8\" class=\"data row3 col8\" >0.00</td>\n",
       "                        <td id=\"T_7cf7b_row3_col9\" class=\"data row3 col9\" >0.03</td>\n",
       "                        <td id=\"T_7cf7b_row3_col10\" class=\"data row3 col10\" >0.00</td>\n",
       "                        <td id=\"T_7cf7b_row3_col11\" class=\"data row3 col11\" >-0.06</td>\n",
       "            </tr>\n",
       "            <tr>\n",
       "                        <th id=\"T_7cf7b_level0_row4\" class=\"row_heading level0 row4\" >ApplicantIncome</th>\n",
       "                        <td id=\"T_7cf7b_row4_col0\" class=\"data row4 col0\" >-0.06</td>\n",
       "                        <td id=\"T_7cf7b_row4_col1\" class=\"data row4 col1\" >-0.05</td>\n",
       "                        <td id=\"T_7cf7b_row4_col2\" class=\"data row4 col2\" >-0.14</td>\n",
       "                        <td id=\"T_7cf7b_row4_col3\" class=\"data row4 col3\" >-0.13</td>\n",
       "                        <td id=\"T_7cf7b_row4_col4\" class=\"data row4 col4\" >1.00</td>\n",
       "                        <td id=\"T_7cf7b_row4_col5\" class=\"data row4 col5\" >-0.12</td>\n",
       "                        <td id=\"T_7cf7b_row4_col6\" class=\"data row4 col6\" >0.56</td>\n",
       "                        <td id=\"T_7cf7b_row4_col7\" class=\"data row4 col7\" >-0.05</td>\n",
       "                        <td id=\"T_7cf7b_row4_col8\" class=\"data row4 col8\" >-0.02</td>\n",
       "                        <td id=\"T_7cf7b_row4_col9\" class=\"data row4 col9\" >-0.01</td>\n",
       "                        <td id=\"T_7cf7b_row4_col10\" class=\"data row4 col10\" >-0.00</td>\n",
       "                        <td id=\"T_7cf7b_row4_col11\" class=\"data row4 col11\" >0.12</td>\n",
       "            </tr>\n",
       "            <tr>\n",
       "                        <th id=\"T_7cf7b_level0_row5\" class=\"row_heading level0 row5\" >CoapplicantIncome</th>\n",
       "                        <td id=\"T_7cf7b_row5_col0\" class=\"data row5 col0\" >-0.08</td>\n",
       "                        <td id=\"T_7cf7b_row5_col1\" class=\"data row5 col1\" >-0.08</td>\n",
       "                        <td id=\"T_7cf7b_row5_col2\" class=\"data row5 col2\" >-0.06</td>\n",
       "                        <td id=\"T_7cf7b_row5_col3\" class=\"data row5 col3\" >0.02</td>\n",
       "                        <td id=\"T_7cf7b_row5_col4\" class=\"data row5 col4\" >-0.12</td>\n",
       "                        <td id=\"T_7cf7b_row5_col5\" class=\"data row5 col5\" >1.00</td>\n",
       "                        <td id=\"T_7cf7b_row5_col6\" class=\"data row5 col6\" >0.19</td>\n",
       "                        <td id=\"T_7cf7b_row5_col7\" class=\"data row5 col7\" >-0.06</td>\n",
       "                        <td id=\"T_7cf7b_row5_col8\" class=\"data row5 col8\" >0.01</td>\n",
       "                        <td id=\"T_7cf7b_row5_col9\" class=\"data row5 col9\" >0.01</td>\n",
       "                        <td id=\"T_7cf7b_row5_col10\" class=\"data row5 col10\" >-0.06</td>\n",
       "                        <td id=\"T_7cf7b_row5_col11\" class=\"data row5 col11\" >0.03</td>\n",
       "            </tr>\n",
       "            <tr>\n",
       "                        <th id=\"T_7cf7b_level0_row6\" class=\"row_heading level0 row6\" >LoanAmount</th>\n",
       "                        <td id=\"T_7cf7b_row6_col0\" class=\"data row6 col0\" >-0.11</td>\n",
       "                        <td id=\"T_7cf7b_row6_col1\" class=\"data row6 col1\" >-0.15</td>\n",
       "                        <td id=\"T_7cf7b_row6_col2\" class=\"data row6 col2\" >-0.17</td>\n",
       "                        <td id=\"T_7cf7b_row6_col3\" class=\"data row6 col3\" >-0.11</td>\n",
       "                        <td id=\"T_7cf7b_row6_col4\" class=\"data row6 col4\" >0.56</td>\n",
       "                        <td id=\"T_7cf7b_row6_col5\" class=\"data row6 col5\" >0.19</td>\n",
       "                        <td id=\"T_7cf7b_row6_col6\" class=\"data row6 col6\" >1.00</td>\n",
       "                        <td id=\"T_7cf7b_row6_col7\" class=\"data row6 col7\" >0.04</td>\n",
       "                        <td id=\"T_7cf7b_row6_col8\" class=\"data row6 col8\" >-0.00</td>\n",
       "                        <td id=\"T_7cf7b_row6_col9\" class=\"data row6 col9\" >-0.05</td>\n",
       "                        <td id=\"T_7cf7b_row6_col10\" class=\"data row6 col10\" >-0.03</td>\n",
       "                        <td id=\"T_7cf7b_row6_col11\" class=\"data row6 col11\" >0.16</td>\n",
       "            </tr>\n",
       "            <tr>\n",
       "                        <th id=\"T_7cf7b_level0_row7\" class=\"row_heading level0 row7\" >Loan_Amount_Term</th>\n",
       "                        <td id=\"T_7cf7b_row7_col0\" class=\"data row7 col0\" >0.07</td>\n",
       "                        <td id=\"T_7cf7b_row7_col1\" class=\"data row7 col1\" >0.10</td>\n",
       "                        <td id=\"T_7cf7b_row7_col2\" class=\"data row7 col2\" >-0.07</td>\n",
       "                        <td id=\"T_7cf7b_row7_col3\" class=\"data row7 col3\" >0.03</td>\n",
       "                        <td id=\"T_7cf7b_row7_col4\" class=\"data row7 col4\" >-0.05</td>\n",
       "                        <td id=\"T_7cf7b_row7_col5\" class=\"data row7 col5\" >-0.06</td>\n",
       "                        <td id=\"T_7cf7b_row7_col6\" class=\"data row7 col6\" >0.04</td>\n",
       "                        <td id=\"T_7cf7b_row7_col7\" class=\"data row7 col7\" >1.00</td>\n",
       "                        <td id=\"T_7cf7b_row7_col8\" class=\"data row7 col8\" >-0.00</td>\n",
       "                        <td id=\"T_7cf7b_row7_col9\" class=\"data row7 col9\" >-0.08</td>\n",
       "                        <td id=\"T_7cf7b_row7_col10\" class=\"data row7 col10\" >-0.02</td>\n",
       "                        <td id=\"T_7cf7b_row7_col11\" class=\"data row7 col11\" >-0.10</td>\n",
       "            </tr>\n",
       "            <tr>\n",
       "                        <th id=\"T_7cf7b_level0_row8\" class=\"row_heading level0 row8\" >Credit_History</th>\n",
       "                        <td id=\"T_7cf7b_row8_col0\" class=\"data row8 col0\" >-0.01</td>\n",
       "                        <td id=\"T_7cf7b_row8_col1\" class=\"data row8 col1\" >-0.01</td>\n",
       "                        <td id=\"T_7cf7b_row8_col2\" class=\"data row8 col2\" >-0.07</td>\n",
       "                        <td id=\"T_7cf7b_row8_col3\" class=\"data row8 col3\" >0.00</td>\n",
       "                        <td id=\"T_7cf7b_row8_col4\" class=\"data row8 col4\" >-0.02</td>\n",
       "                        <td id=\"T_7cf7b_row8_col5\" class=\"data row8 col5\" >0.01</td>\n",
       "                        <td id=\"T_7cf7b_row8_col6\" class=\"data row8 col6\" >-0.00</td>\n",
       "                        <td id=\"T_7cf7b_row8_col7\" class=\"data row8 col7\" >-0.00</td>\n",
       "                        <td id=\"T_7cf7b_row8_col8\" class=\"data row8 col8\" >1.00</td>\n",
       "                        <td id=\"T_7cf7b_row8_col9\" class=\"data row8 col9\" >0.00</td>\n",
       "                        <td id=\"T_7cf7b_row8_col10\" class=\"data row8 col10\" >0.54</td>\n",
       "                        <td id=\"T_7cf7b_row8_col11\" class=\"data row8 col11\" >-0.04</td>\n",
       "            </tr>\n",
       "            <tr>\n",
       "                        <th id=\"T_7cf7b_level0_row9\" class=\"row_heading level0 row9\" >Property_Area</th>\n",
       "                        <td id=\"T_7cf7b_row9_col0\" class=\"data row9 col0\" >0.03</td>\n",
       "                        <td id=\"T_7cf7b_row9_col1\" class=\"data row9 col1\" >-0.00</td>\n",
       "                        <td id=\"T_7cf7b_row9_col2\" class=\"data row9 col2\" >-0.07</td>\n",
       "                        <td id=\"T_7cf7b_row9_col3\" class=\"data row9 col3\" >0.03</td>\n",
       "                        <td id=\"T_7cf7b_row9_col4\" class=\"data row9 col4\" >-0.01</td>\n",
       "                        <td id=\"T_7cf7b_row9_col5\" class=\"data row9 col5\" >0.01</td>\n",
       "                        <td id=\"T_7cf7b_row9_col6\" class=\"data row9 col6\" >-0.05</td>\n",
       "                        <td id=\"T_7cf7b_row9_col7\" class=\"data row9 col7\" >-0.08</td>\n",
       "                        <td id=\"T_7cf7b_row9_col8\" class=\"data row9 col8\" >0.00</td>\n",
       "                        <td id=\"T_7cf7b_row9_col9\" class=\"data row9 col9\" >1.00</td>\n",
       "                        <td id=\"T_7cf7b_row9_col10\" class=\"data row9 col10\" >0.03</td>\n",
       "                        <td id=\"T_7cf7b_row9_col11\" class=\"data row9 col11\" >-0.00</td>\n",
       "            </tr>\n",
       "            <tr>\n",
       "                        <th id=\"T_7cf7b_level0_row10\" class=\"row_heading level0 row10\" >Loan_Status</th>\n",
       "                        <td id=\"T_7cf7b_row10_col0\" class=\"data row10 col0\" >-0.02</td>\n",
       "                        <td id=\"T_7cf7b_row10_col1\" class=\"data row10 col1\" >-0.09</td>\n",
       "                        <td id=\"T_7cf7b_row10_col2\" class=\"data row10 col2\" >-0.09</td>\n",
       "                        <td id=\"T_7cf7b_row10_col3\" class=\"data row10 col3\" >0.00</td>\n",
       "                        <td id=\"T_7cf7b_row10_col4\" class=\"data row10 col4\" >-0.00</td>\n",
       "                        <td id=\"T_7cf7b_row10_col5\" class=\"data row10 col5\" >-0.06</td>\n",
       "                        <td id=\"T_7cf7b_row10_col6\" class=\"data row10 col6\" >-0.03</td>\n",
       "                        <td id=\"T_7cf7b_row10_col7\" class=\"data row10 col7\" >-0.02</td>\n",
       "                        <td id=\"T_7cf7b_row10_col8\" class=\"data row10 col8\" >0.54</td>\n",
       "                        <td id=\"T_7cf7b_row10_col9\" class=\"data row10 col9\" >0.03</td>\n",
       "                        <td id=\"T_7cf7b_row10_col10\" class=\"data row10 col10\" >1.00</td>\n",
       "                        <td id=\"T_7cf7b_row10_col11\" class=\"data row10 col11\" >0.01</td>\n",
       "            </tr>\n",
       "            <tr>\n",
       "                        <th id=\"T_7cf7b_level0_row11\" class=\"row_heading level0 row11\" >Dependents</th>\n",
       "                        <td id=\"T_7cf7b_row11_col0\" class=\"data row11 col0\" >-0.17</td>\n",
       "                        <td id=\"T_7cf7b_row11_col1\" class=\"data row11 col1\" >-0.33</td>\n",
       "                        <td id=\"T_7cf7b_row11_col2\" class=\"data row11 col2\" >0.06</td>\n",
       "                        <td id=\"T_7cf7b_row11_col3\" class=\"data row11 col3\" >-0.06</td>\n",
       "                        <td id=\"T_7cf7b_row11_col4\" class=\"data row11 col4\" >0.12</td>\n",
       "                        <td id=\"T_7cf7b_row11_col5\" class=\"data row11 col5\" >0.03</td>\n",
       "                        <td id=\"T_7cf7b_row11_col6\" class=\"data row11 col6\" >0.16</td>\n",
       "                        <td id=\"T_7cf7b_row11_col7\" class=\"data row11 col7\" >-0.10</td>\n",
       "                        <td id=\"T_7cf7b_row11_col8\" class=\"data row11 col8\" >-0.04</td>\n",
       "                        <td id=\"T_7cf7b_row11_col9\" class=\"data row11 col9\" >-0.00</td>\n",
       "                        <td id=\"T_7cf7b_row11_col10\" class=\"data row11 col10\" >0.01</td>\n",
       "                        <td id=\"T_7cf7b_row11_col11\" class=\"data row11 col11\" >1.00</td>\n",
       "            </tr>\n",
       "    </tbody></table>"
      ],
      "text/plain": [
       "<pandas.io.formats.style.Styler at 0x169d84adca0>"
      ]
     },
     "execution_count": 50,
     "metadata": {},
     "output_type": "execute_result"
    }
   ],
   "source": [
    "#correlation table\n",
    "corr = lp_hc.corr()\n",
    "corr.style.background_gradient(cmap='coolwarm').set_precision(2)"
   ]
  },
  {
   "cell_type": "markdown",
   "id": "176db247",
   "metadata": {},
   "source": [
    "We can clearly see that Credit_History has the highest correlation with Loan_Status (a positive correlation of 0.54). Therefore our target value is highly dependant on this column."
   ]
  },
  {
   "cell_type": "markdown",
   "id": "977ca852",
   "metadata": {},
   "source": [
    "# ML models"
   ]
  },
  {
   "cell_type": "code",
   "execution_count": 52,
   "id": "330237a7",
   "metadata": {},
   "outputs": [],
   "source": [
    "y = lp_hc['Loan_Status']\n",
    "X = lp_hc.drop('Loan_Status', axis = 1)\n",
    "X_train, X_test, y_train, y_test = train_test_split(X, y, test_size = 0.3, random_state = 0)"
   ]
  },
  {
   "cell_type": "markdown",
   "id": "8358b9dc",
   "metadata": {},
   "source": [
    "The first model we are using is Decision Tree"
   ]
  },
  {
   "cell_type": "code",
   "execution_count": 53,
   "id": "6b5ced01",
   "metadata": {},
   "outputs": [],
   "source": [
    "DT = DecisionTreeClassifier()\n",
    "DT.fit(X_train, y_train)\n",
    "y_predict = DT.predict(X_test)\n"
   ]
  },
  {
   "cell_type": "code",
   "execution_count": 54,
   "id": "c90e5da2",
   "metadata": {},
   "outputs": [
    {
     "name": "stdout",
     "output_type": "stream",
     "text": [
      "              precision    recall  f1-score   support\n",
      "\n",
      "           0       0.44      0.53      0.48        51\n",
      "           1       0.80      0.74      0.77       134\n",
      "\n",
      "    accuracy                           0.68       185\n",
      "   macro avg       0.62      0.63      0.62       185\n",
      "weighted avg       0.70      0.68      0.69       185\n",
      "\n"
     ]
    }
   ],
   "source": [
    "#  prediction Summary by species\n",
    "print(classification_report(y_test, y_predict))"
   ]
  },
  {
   "cell_type": "code",
   "execution_count": 55,
   "id": "dd33a796",
   "metadata": {},
   "outputs": [
    {
     "name": "stdout",
     "output_type": "stream",
     "text": [
      "68.11% Accurate\n"
     ]
    }
   ],
   "source": [
    "# Accuracy score\n",
    "DT_SC = accuracy_score(y_predict,y_test)\n",
    "print(f\"{round(DT_SC*100,2)}% Accurate\")"
   ]
  },
  {
   "cell_type": "code",
   "execution_count": 56,
   "id": "c6fe8d4a",
   "metadata": {},
   "outputs": [],
   "source": [
    "# Result is \n",
    "Decision_Tree=pd.DataFrame({'y_test':y_test,'prediction':y_predict})\n",
    "Decision_Tree.to_csv(\"Dection Tree.csv\")"
   ]
  },
  {
   "cell_type": "markdown",
   "id": "ea6ae4f0",
   "metadata": {},
   "source": [
    "# Random Forest"
   ]
  },
  {
   "cell_type": "code",
   "execution_count": 57,
   "id": "6d278aff",
   "metadata": {},
   "outputs": [],
   "source": [
    "RF = RandomForestClassifier()\n",
    "RF.fit(X_train, y_train)\n",
    "y_predict = RF.predict(X_test)"
   ]
  },
  {
   "cell_type": "code",
   "execution_count": 58,
   "id": "55857205",
   "metadata": {},
   "outputs": [
    {
     "name": "stdout",
     "output_type": "stream",
     "text": [
      "              precision    recall  f1-score   support\n",
      "\n",
      "           0       0.69      0.43      0.53        51\n",
      "           1       0.81      0.93      0.86       134\n",
      "\n",
      "    accuracy                           0.79       185\n",
      "   macro avg       0.75      0.68      0.70       185\n",
      "weighted avg       0.78      0.79      0.77       185\n",
      "\n"
     ]
    }
   ],
   "source": [
    "#  prediction Summary by species\n",
    "print(classification_report(y_test, y_predict))"
   ]
  },
  {
   "cell_type": "code",
   "execution_count": 59,
   "id": "5749e560",
   "metadata": {},
   "outputs": [
    {
     "name": "stdout",
     "output_type": "stream",
     "text": [
      "78.92% Accurate\n"
     ]
    }
   ],
   "source": [
    "# Accuracy score\n",
    "RF_SC = accuracy_score(y_predict,y_test)\n",
    "print(f\"{round(RF_SC*100,2)}% Accurate\")"
   ]
  },
  {
   "cell_type": "code",
   "execution_count": 60,
   "id": "50576ef2",
   "metadata": {},
   "outputs": [],
   "source": [
    "# result is\n",
    "Random_Forest=pd.DataFrame({'y_test':y_test,'prediction':y_predict})\n",
    "Random_Forest.to_csv(\"Random Forest.csv\") "
   ]
  },
  {
   "cell_type": "markdown",
   "id": "ad15efe1",
   "metadata": {},
   "source": [
    "# Logistic Regression"
   ]
  },
  {
   "cell_type": "code",
   "execution_count": 61,
   "id": "a11a3dbe",
   "metadata": {},
   "outputs": [
    {
     "name": "stderr",
     "output_type": "stream",
     "text": [
      "C:\\Users\\dakha\\anaconda3\\lib\\site-packages\\sklearn\\linear_model\\_logistic.py:763: ConvergenceWarning: lbfgs failed to converge (status=1):\n",
      "STOP: TOTAL NO. of ITERATIONS REACHED LIMIT.\n",
      "\n",
      "Increase the number of iterations (max_iter) or scale the data as shown in:\n",
      "    https://scikit-learn.org/stable/modules/preprocessing.html\n",
      "Please also refer to the documentation for alternative solver options:\n",
      "    https://scikit-learn.org/stable/modules/linear_model.html#logistic-regression\n",
      "  n_iter_i = _check_optimize_result(\n"
     ]
    }
   ],
   "source": [
    "LR = LogisticRegression()\n",
    "LR.fit(X_train, y_train)\n",
    "\n",
    "y_predict = LR.predict(X_test)"
   ]
  },
  {
   "cell_type": "code",
   "execution_count": 62,
   "id": "5600abf7",
   "metadata": {},
   "outputs": [
    {
     "name": "stdout",
     "output_type": "stream",
     "text": [
      "              precision    recall  f1-score   support\n",
      "\n",
      "           0       0.92      0.43      0.59        51\n",
      "           1       0.82      0.99      0.89       134\n",
      "\n",
      "    accuracy                           0.83       185\n",
      "   macro avg       0.87      0.71      0.74       185\n",
      "weighted avg       0.85      0.83      0.81       185\n",
      "\n"
     ]
    }
   ],
   "source": [
    "#  prediction Summary by species\n",
    "print(classification_report(y_test, y_predict))"
   ]
  },
  {
   "cell_type": "code",
   "execution_count": 63,
   "id": "2540a876",
   "metadata": {},
   "outputs": [
    {
     "name": "stdout",
     "output_type": "stream",
     "text": [
      "accuracy is 0.8324324324324325\n"
     ]
    }
   ],
   "source": [
    "# Accuracy score\n",
    "LR_SC = accuracy_score(y_predict,y_test)\n",
    "print('accuracy is',accuracy_score(y_predict,y_test))"
   ]
  },
  {
   "cell_type": "code",
   "execution_count": 64,
   "id": "960e90d7",
   "metadata": {},
   "outputs": [],
   "source": [
    "# Result is\n",
    "Logistic_Regression=pd.DataFrame({'y_test':y_test,'prediction':y_predict})\n",
    "Logistic_Regression.to_csv(\"Logistic Regression.csv\")   "
   ]
  },
  {
   "cell_type": "markdown",
   "id": "ce13630c",
   "metadata": {},
   "source": [
    "# Conclusion"
   ]
  },
  {
   "cell_type": "markdown",
   "id": "9db457e2",
   "metadata": {},
   "source": [
    "### 1. The Logistic Regression algorithm is the most accurate: approximately 83%.\n",
    "### 2. Credit_History is a very important variable because of its high correlation with Loan_Status there for    showing high Dependancy for the latter."
   ]
  },
  {
   "cell_type": "code",
   "execution_count": 66,
   "id": "15f81648",
   "metadata": {},
   "outputs": [
    {
     "data": {
      "text/html": [
       "<div>\n",
       "<style scoped>\n",
       "    .dataframe tbody tr th:only-of-type {\n",
       "        vertical-align: middle;\n",
       "    }\n",
       "\n",
       "    .dataframe tbody tr th {\n",
       "        vertical-align: top;\n",
       "    }\n",
       "\n",
       "    .dataframe thead th {\n",
       "        text-align: right;\n",
       "    }\n",
       "</style>\n",
       "<table border=\"1\" class=\"dataframe\">\n",
       "  <thead>\n",
       "    <tr style=\"text-align: right;\">\n",
       "      <th></th>\n",
       "      <th>n_neighbors</th>\n",
       "      <th>Score</th>\n",
       "    </tr>\n",
       "  </thead>\n",
       "  <tbody>\n",
       "    <tr>\n",
       "      <th>2</th>\n",
       "      <td>Logistic Regression</td>\n",
       "      <td>0.832432</td>\n",
       "    </tr>\n",
       "    <tr>\n",
       "      <th>1</th>\n",
       "      <td>Random Forest</td>\n",
       "      <td>0.789189</td>\n",
       "    </tr>\n",
       "    <tr>\n",
       "      <th>0</th>\n",
       "      <td>Decision Tree</td>\n",
       "      <td>0.681081</td>\n",
       "    </tr>\n",
       "  </tbody>\n",
       "</table>\n",
       "</div>"
      ],
      "text/plain": [
       "           n_neighbors     Score\n",
       "2  Logistic Regression  0.832432\n",
       "1        Random Forest  0.789189\n",
       "0        Decision Tree  0.681081"
      ]
     },
     "execution_count": 66,
     "metadata": {},
     "output_type": "execute_result"
    }
   ],
   "source": [
    "score = [DT_SC,RF_SC,LR_SC]\n",
    "Models = pd.DataFrame({\n",
    "    'n_neighbors': [\"Decision Tree\",\"Random Forest\", \"Logistic Regression\"],\n",
    "    'Score': score})\n",
    "Models.sort_values(by='Score', ascending=False)"
   ]
  },
  {
   "cell_type": "code",
   "execution_count": null,
   "id": "5ac0ccae",
   "metadata": {},
   "outputs": [],
   "source": []
  }
 ],
 "metadata": {
  "kernelspec": {
   "display_name": "Python 3",
   "language": "python",
   "name": "python3"
  },
  "language_info": {
   "codemirror_mode": {
    "name": "ipython",
    "version": 3
   },
   "file_extension": ".py",
   "mimetype": "text/x-python",
   "name": "python",
   "nbconvert_exporter": "python",
   "pygments_lexer": "ipython3",
   "version": "3.8.8"
  }
 },
 "nbformat": 4,
 "nbformat_minor": 5
}
